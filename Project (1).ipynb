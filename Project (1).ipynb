{
 "cells": [
  {
   "cell_type": "markdown",
   "metadata": {},
   "source": [
    "# PROJECT TIME"
   ]
  },
  {
   "cell_type": "code",
   "execution_count": 1,
   "metadata": {},
   "outputs": [
    {
     "name": "stdout",
     "output_type": "stream",
     "text": [
      "Hi! We would like to recommend some songs to you!\n",
      "\n",
      "So, if you could, would you please enter what mood you would be in right now, so we could recommend some songs for you! \n",
      "\n",
      "sad\n",
      "Please enter the number of songs you would want in the playlist(less than 20):3\n",
      "\n"
     ]
    },
    {
     "ename": "FileNotFoundError",
     "evalue": "[Errno 2] No such file or directory: 'Sad.txt'",
     "output_type": "error",
     "traceback": [
      "\u001b[1;31m---------------------------------------------------------------------------\u001b[0m",
      "\u001b[1;31mFileNotFoundError\u001b[0m                         Traceback (most recent call last)",
      "\u001b[1;32m<ipython-input-1-3742029082ba>\u001b[0m in \u001b[0;36m<module>\u001b[1;34m()\u001b[0m\n\u001b[0;32m     30\u001b[0m             \u001b[0mprint\u001b[0m\u001b[1;33m(\u001b[0m\u001b[0mnum\u001b[0m\u001b[1;33m,\u001b[0m\u001b[1;34m\":\"\u001b[0m\u001b[1;33m,\u001b[0m\u001b[0ml\u001b[0m\u001b[1;33m)\u001b[0m\u001b[1;33m\u001b[0m\u001b[0m\n\u001b[0;32m     31\u001b[0m     \u001b[1;32melif\u001b[0m\u001b[1;33m(\u001b[0m\u001b[0mmood\u001b[0m\u001b[1;33m==\u001b[0m\u001b[1;34m'sad'\u001b[0m\u001b[1;33m)\u001b[0m\u001b[1;33m:\u001b[0m\u001b[1;33m\u001b[0m\u001b[0m\n\u001b[1;32m---> 32\u001b[1;33m         \u001b[0mf_sad\u001b[0m\u001b[1;33m=\u001b[0m\u001b[0mopen\u001b[0m\u001b[1;33m(\u001b[0m\u001b[1;34m\"Sad.txt\"\u001b[0m\u001b[1;33m,\u001b[0m\u001b[1;34m'r+'\u001b[0m\u001b[1;33m)\u001b[0m\u001b[1;33m\u001b[0m\u001b[0m\n\u001b[0m\u001b[0;32m     33\u001b[0m         \u001b[1;32mwhile\u001b[0m \u001b[0mi\u001b[0m\u001b[1;33m<\u001b[0m\u001b[0mn\u001b[0m\u001b[1;33m:\u001b[0m\u001b[1;33m\u001b[0m\u001b[0m\n\u001b[0;32m     34\u001b[0m             \u001b[0mj\u001b[0m\u001b[1;33m=\u001b[0m\u001b[0mf_sad\u001b[0m\u001b[1;33m.\u001b[0m\u001b[0mreadlines\u001b[0m\u001b[1;33m(\u001b[0m\u001b[1;33m)\u001b[0m\u001b[1;33m\u001b[0m\u001b[0m\n",
      "\u001b[1;31mFileNotFoundError\u001b[0m: [Errno 2] No such file or directory: 'Sad.txt'"
     ]
    }
   ],
   "source": [
    "print(\"Hi! We would like to recommend some songs to you!\")\n",
    "print('')\n",
    "print(\"So, if you could, would you please enter what mood you would be in right now, so we could recommend some songs for you! \")\n",
    "print('')\n",
    "num=0\n",
    "mood=input()\n",
    "from random import randint\n",
    "song_list=[]\n",
    "i=0\n",
    "if(mood=='happy' or mood=='sad' or mood=='indie' or mood=='romantic'):\n",
    "    n=int(input(\"Please enter the number of songs you would want in the playlist(less than 20):\"))\n",
    "    print('')\n",
    "    if(mood=='happy'):\n",
    "        f_happy=open(\"Happy.txt\",'r+')\n",
    "        while i<n:\n",
    "            j=f_happy.readlines()\n",
    "            for k in j:\n",
    "                if(randint(-1,2)==0):\n",
    "                    pass\n",
    "                else:\n",
    "                    song_list.append(k)\n",
    "                    i=i+1\n",
    "                if(i<n):\n",
    "                    pass\n",
    "                else:\n",
    "                    break\n",
    "        #print(song_list)\n",
    "        for l in song_list:\n",
    "            num=num+1\n",
    "            print(num,\":\",l)\n",
    "    elif(mood=='sad'):\n",
    "        f_sad=open(\"Sad.txt\",'r+')\n",
    "        while i<n:\n",
    "            j=f_sad.readlines()\n",
    "            for k in j:\n",
    "                if(randint(-1,2)==0):\n",
    "                    pass\n",
    "                else:\n",
    "                    song_list.append(k)\n",
    "                    i=i+1\n",
    "                if(i<n):\n",
    "                    pass\n",
    "                else:\n",
    "                    break\n",
    "        #print(song_list)\n",
    "        for l in song_list:\n",
    "            num=num+1\n",
    "            print(num,\":\",l)\n",
    "    elif(mood=='romantic'):\n",
    "        f_romantic=open(\"Romantic.txt\",'r+')\n",
    "        while i<n:\n",
    "            j=f_romantic.readlines()\n",
    "            for k in j:\n",
    "                if(randint(-1,2)==0):\n",
    "                    pass\n",
    "                else:\n",
    "                    song_list.append(k)\n",
    "                    i=i+1\n",
    "                if(i<n):\n",
    "                    pass\n",
    "                else:\n",
    "                    break\n",
    "        #print(song_list)\n",
    "        for l in song_list:\n",
    "            num=num+1\n",
    "            print(num,\":\",l)\n",
    "    elif(mood=='indie'):\n",
    "        f_Indie=open(\"Indie.txt\",'r+')\n",
    "        while i<n:\n",
    "            j=f_indie.readlines()\n",
    "            for k in j:\n",
    "                if(randint(-1,2)==0):\n",
    "                    pass\n",
    "                else:\n",
    "                    song_list.append(k)\n",
    "                    i=i+1\n",
    "                if(i<n):\n",
    "                    pass\n",
    "                else:\n",
    "                    break\n",
    "        #print(song_list)\n",
    "        for l in song_list:\n",
    "            num=num+1\n",
    "            print(num,\":\",l)\n",
    "else:\n",
    "    print(\"Sorry, we haven't been able to figure out  '\",mood,\"'  yet. Please enter a mood between the 4 choices:\")\n",
    "    print(\"                       Happy          Sad         Romantic         Indie\")\n",
    "                    \n",
    "    \n",
    "\n",
    "        \n",
    "            \n",
    "            \n",
    "        \n",
    "        "
   ]
  },
  {
   "cell_type": "code",
   "execution_count": null,
   "metadata": {},
   "outputs": [],
   "source": []
  },
  {
   "cell_type": "code",
   "execution_count": null,
   "metadata": {},
   "outputs": [],
   "source": []
  }
 ],
 "metadata": {
  "kernelspec": {
   "display_name": "Python 3",
   "language": "python",
   "name": "python3"
  },
  "language_info": {
   "codemirror_mode": {
    "name": "ipython",
    "version": 3
   },
   "file_extension": ".py",
   "mimetype": "text/x-python",
   "name": "python",
   "nbconvert_exporter": "python",
   "pygments_lexer": "ipython3",
   "version": "3.5.6"
  }
 },
 "nbformat": 4,
 "nbformat_minor": 2
}